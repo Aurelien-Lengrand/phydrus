{
 "cells": [
  {
   "cell_type": "markdown",
   "metadata": {},
   "source": [
    "## Example 5a: Basic Solute Transport: Solute Introduced through a Constant Flux Boundary"
   ]
  },
  {
   "cell_type": "markdown",
   "metadata": {},
   "source": [
    "This notebook represents the steps to replicate example 5a from: * David Rassam, Jirka Šimůnek, Dirk Mallants,and Martinus Th. van Genuchten, The HYDRUS-1D Software Package for Simulating the One-Dimensional Movement of Water, Heat, and Multiple Solutes in Variably-Saturated Media* \\\n",
    "Tutorial \\\n",
    "Version 1.00, July 2018"
   ]
  },
  {
   "cell_type": "markdown",
   "metadata": {},
   "source": [
    "This example provides insctructions to create a Pydrus model that simulates water flow and solute transport through a 300-cm deep uniform soil profile. The soil profile is initially solute free. Water is infiltrated into the soil at a  constant flux of 5 cm/d. The infiltrating water a uni solute concentration during the first 10 days and is solute free during the second 10 days. \\\n",
    "The upper boundary and lower boundary are represented with: \n",
    "\n",
    "* Upper BC: Constant Flux (rtop = 5).\n",
    "* Bottom BC: Free Drainage (groundwater table is assumed to be deep enough to not influence water redistributions in the soil profile). "
   ]
  },
  {
   "cell_type": "markdown",
   "metadata": {},
   "source": [
    "### 1. Import the Pydrus package"
   ]
  },
  {
   "cell_type": "code",
   "execution_count": 1,
   "metadata": {},
   "outputs": [],
   "source": [
    "import os\n",
    "import numpy as np\n",
    "import pandas as pd\n",
    "import pydrus as ps\n",
    "%matplotlib inline"
   ]
  },
  {
   "cell_type": "markdown",
   "metadata": {},
   "source": [
    "### 2. Create the basic model & add time information basic model"
   ]
  },
  {
   "cell_type": "code",
   "execution_count": 2,
   "metadata": {},
   "outputs": [
    {
     "name": "stdout",
     "output_type": "stream",
     "text": [
      "Directory example_5a created\n"
     ]
    }
   ],
   "source": [
    "# Folder for Hydrus files to be stored\n",
    "ws = \"example_5a\"\n",
    "# Path to folder containing hydrus.exe \n",
    "exe = os.path.join(os.getcwd(),\"../../source/hydrus.exe\")  \n",
    "# Description\n",
    "desc = \"Solute Introduced through a Constant Flux Boundary\"\n",
    "# Create model\n",
    "ml = ps.Model(exe_name=exe, ws_name=ws, name=\"model\", description=desc, \n",
    "              mass_units=\"mmol\", time_unit=\"days\", length_unit=\"cm\")\n",
    "#ml.basic_info[\"lFlux\"] = True\n",
    "ml.basic_info[\"lShort\"] = False\n",
    "time=np.arange(2,22,2)\n",
    "times = ml.add_time_info(print_times=True,tmax = 20, print_array=time, \n",
    "                         dt=0.001)"
   ]
  },
  {
   "cell_type": "markdown",
   "metadata": {},
   "source": [
    "### 3. Add processes and materials"
   ]
  },
  {
   "cell_type": "code",
   "execution_count": 3,
   "metadata": {},
   "outputs": [
    {
     "data": {
      "text/html": [
       "<div>\n",
       "<style scoped>\n",
       "    .dataframe tbody tr th:only-of-type {\n",
       "        vertical-align: middle;\n",
       "    }\n",
       "\n",
       "    .dataframe tbody tr th {\n",
       "        vertical-align: top;\n",
       "    }\n",
       "\n",
       "    .dataframe thead tr th {\n",
       "        text-align: left;\n",
       "    }\n",
       "</style>\n",
       "<table border=\"1\" class=\"dataframe\">\n",
       "  <thead>\n",
       "    <tr>\n",
       "      <th></th>\n",
       "      <th colspan=\"6\" halign=\"left\">water</th>\n",
       "      <th colspan=\"4\" halign=\"left\">solute</th>\n",
       "    </tr>\n",
       "    <tr>\n",
       "      <th></th>\n",
       "      <th>thr</th>\n",
       "      <th>ths</th>\n",
       "      <th>Alfa</th>\n",
       "      <th>n</th>\n",
       "      <th>Ks</th>\n",
       "      <th>l</th>\n",
       "      <th>bulk.d</th>\n",
       "      <th>DisperL</th>\n",
       "      <th>frac</th>\n",
       "      <th>mobile_wc</th>\n",
       "    </tr>\n",
       "  </thead>\n",
       "  <tbody>\n",
       "    <tr>\n",
       "      <th>1</th>\n",
       "      <td>0.078</td>\n",
       "      <td>0.43</td>\n",
       "      <td>0.036</td>\n",
       "      <td>1.56</td>\n",
       "      <td>24.96</td>\n",
       "      <td>0.5</td>\n",
       "      <td>1.5</td>\n",
       "      <td>30</td>\n",
       "      <td>1</td>\n",
       "      <td>0</td>\n",
       "    </tr>\n",
       "  </tbody>\n",
       "</table>\n",
       "</div>"
      ],
      "text/plain": [
       "   water                                solute                       \n",
       "     thr   ths   Alfa     n     Ks    l bulk.d DisperL frac mobile_wc\n",
       "1  0.078  0.43  0.036  1.56  24.96  0.5    1.5      30    1         0"
      ]
     },
     "execution_count": 3,
     "metadata": {},
     "output_type": "execute_result"
    }
   ],
   "source": [
    "ml.add_waterflow(top_bc=1, bot_bc=4, linitw=False, rtop=-5)\n",
    "ml.add_solute_transport(tpulse=10, maxit=1)\n",
    "\n",
    "m = ml.get_empty_material_df(n=1)\n",
    "m.loc[[1, 1]] = [0.078, 0.43, 0.036, 1.56, 24.96, 0.5, 1.5, 30, 1, 0]\n",
    "ml.add_material(m)"
   ]
  },
  {
   "cell_type": "markdown",
   "metadata": {},
   "source": [
    "### 4. Add profile information"
   ]
  },
  {
   "cell_type": "code",
   "execution_count": 4,
   "metadata": {},
   "outputs": [],
   "source": [
    "elements = 100  # Disctretize soil column into n elements\n",
    "depth = -300  # Depth of the soil column\n",
    "ihead = -100  # Determine initial Pressure Head\n",
    "# Create Profile\n",
    "profile = ps.create_profile(bot=depth, dx=abs(depth / elements), \n",
    "                            h=ihead,sconc=0)\n",
    "ml.add_profile(profile) # Add the profile"
   ]
  },
  {
   "cell_type": "markdown",
   "metadata": {},
   "source": [
    "### 5. Add observation nodes"
   ]
  },
  {
   "cell_type": "code",
   "execution_count": 5,
   "metadata": {},
   "outputs": [],
   "source": [
    "ml.add_obs_nodes([0, -150, -300])"
   ]
  },
  {
   "cell_type": "markdown",
   "metadata": {},
   "source": [
    "### 6. Add atmosphere boundary conditions"
   ]
  },
  {
   "cell_type": "code",
   "execution_count": 6,
   "metadata": {},
   "outputs": [],
   "source": [
    "bc = {\"tAtm\": (10, 20), \"Prec\": (5, 5), \"cTop\": (1, 0)}\n",
    "atm = pd.DataFrame(bc, index=(3, 30))\n",
    "ml.add_atmospheric_bc(atm, hcrits=0, hcrita=100000)"
   ]
  },
  {
   "cell_type": "markdown",
   "metadata": {},
   "source": [
    "### 6. Add solutes"
   ]
  },
  {
   "cell_type": "code",
   "execution_count": 7,
   "metadata": {},
   "outputs": [],
   "source": [
    "sol1 = ml.get_empty_solute_df()\n",
    "sol1[\"beta\"] = 1\n",
    "ml.add_solute(sol1, difw=0, difg=0, top_conc=1)"
   ]
  },
  {
   "cell_type": "markdown",
   "metadata": {},
   "source": [
    "### 7. Write hydrus input files and run hydrus"
   ]
  },
  {
   "cell_type": "code",
   "execution_count": 8,
   "metadata": {},
   "outputs": [],
   "source": [
    "ml.write_input()\n",
    "rs = ml.simulate()"
   ]
  },
  {
   "cell_type": "markdown",
   "metadata": {},
   "source": [
    "### 8. Plot results"
   ]
  },
  {
   "cell_type": "code",
   "execution_count": 9,
   "metadata": {},
   "outputs": [
    {
     "data": {
      "text/plain": [
       "<matplotlib.axes._subplots.AxesSubplot at 0x213d360e128>"
      ]
     },
     "execution_count": 9,
     "metadata": {},
     "output_type": "execute_result"
    },
    {
     "data": {
      "image/png": "[encoded data removed]",
      "text/plain": [
       "<Figure size 288x216 with 1 Axes>"
      ]
     },
     "metadata": {
      "needs_background": "light"
     },
     "output_type": "display_data"
    }
   ],
   "source": [
    "ml.plots.obs_points(data=\"Concentration\")"
   ]
  },
  {
   "cell_type": "code",
   "execution_count": 10,
   "metadata": {},
   "outputs": [
    {
     "data": {
      "text/plain": [
       "<matplotlib.axes._subplots.AxesSubplot at 0x213d56661d0>"
      ]
     },
     "execution_count": 10,
     "metadata": {},
     "output_type": "execute_result"
    },
    {
     "data": {
      "image/png": "[encoded data removed]",
      "text/plain": [
       "<Figure size 360x216 with 1 Axes>"
      ]
     },
     "metadata": {
      "needs_background": "light"
     },
     "output_type": "display_data"
    }
   ],
   "source": [
    "ml.plots.profile_information(\"Concentration\", times=[10, 14, 20])"
   ]
  },
  {
   "cell_type": "code",
   "execution_count": 11,
   "metadata": {},
   "outputs": [
    {
     "data": {
      "text/plain": [
       "<matplotlib.axes._subplots.AxesSubplot at 0x213d5761668>"
      ]
     },
     "execution_count": 11,
     "metadata": {},
     "output_type": "execute_result"
    },
    {
     "data": {
      "image/png": "[encoded data removed]",
      "text/plain": [
       "<Figure size 432x288 with 1 Axes>"
      ]
     },
     "metadata": {
      "needs_background": "light"
     },
     "output_type": "display_data"
    }
   ],
   "source": [
    "import matplotlib.pyplot as plt\n",
    "df = ml.read_solutes()\n",
    "df.columns\n",
    "fig,ax=plt.subplots()\n",
    "df = df.set_index(pd.to_numeric(df.index, errors='coerce'))\n",
    "df.plot(y=\"Sum(cvTop)\", ax=ax, use_index=True)\n",
    "df.plot(y=\"Sum(cvBot)\", ax=ax, use_index=True)"
   ]
  },
  {
   "cell_type": "code",
   "execution_count": null,
   "metadata": {},
   "outputs": [],
   "source": []
  }
 ],
 "metadata": {
  "kernelspec": {
   "display_name": "Python 3",
   "language": "python",
   "name": "python3"
  },
  "language_info": {
   "codemirror_mode": {
    "name": "ipython",
    "version": 3
   },
   "file_extension": ".py",
   "mimetype": "text/x-python",
   "name": "python",
   "nbconvert_exporter": "python",
   "pygments_lexer": "ipython3",
   "version": "3.6.7"
  }
 },
 "nbformat": 4,
 "nbformat_minor": 2
}
