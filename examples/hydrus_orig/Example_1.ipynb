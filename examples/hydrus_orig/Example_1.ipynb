{
 "cells": [
  {
   "cell_type": "markdown",
   "metadata": {},
   "source": [
    "## Example 1: Infiltration of Water into a Single-Layered Soil Profile\n",
    "M. Vremec, R.A. Collenteur "
   ]
  },
  {
   "cell_type": "markdown",
   "metadata": {},
   "source": [
    "From:  \n",
    "David Rassam, Jirka Šimůnek, Dirk Mallants,and Martinus Th. van Genuchten, \\\n",
    "The HYDRUS-1D Software Package for Simulating the One-Dimensional Movement of Water, Heat, and Multiple Solutes in Variably-Saturated Media \\\n",
    "Tutorial \\\n",
    "Version 1.00, July 2018"
   ]
  },
  {
   "cell_type": "markdown",
   "metadata": {},
   "source": [
    "This example provides insctructions to create a Pydrus model that involves infiltration of water from a ponded soil surface into a 1-m deep single-layered loam soil. The soil profile is initially unsaturated, having an initial pressure head of -100 cm. The upper boundary and lower boundary are represented with: \n",
    "* Upper BC: Constant Pressure Head (pressure head at the soil surface is 1 cm)(corresponding to the ponding depth).\n",
    "* Bottom BC: Free Drainage boundary condition (groundwater table is at an unspecified point deep in the profile (e.g., more than 10 m). "
   ]
  },
  {
   "cell_type": "markdown",
   "metadata": {},
   "source": [
    "### Import the Pydrus package"
   ]
  },
  {
   "cell_type": "code",
   "execution_count": 1,
   "metadata": {},
   "outputs": [],
   "source": [
    "import os\n",
    "import pandas as pd\n",
    "import pydrus as ps\n",
    "%matplotlib inline"
   ]
  },
  {
   "cell_type": "markdown",
   "metadata": {},
   "source": [
    "### Create the basic model"
   ]
  },
  {
   "cell_type": "code",
   "execution_count": 2,
   "metadata": {},
   "outputs": [],
   "source": [
    "# Folder for Hydrus files to be stored\n",
    "ws = \"example_1\"\n",
    "# Path to folder containing hydrus.exe \n",
    "exe = os.path.join(os.getcwd(),\"../../source/hydrus\")  \n",
    "# Description\n",
    "desc = \"Infiltration of Water into a Single-Layered Soil Profile\"\n",
    "# Create model\n",
    "ml = ps.Model(exe_name=exe, ws_name=ws, name=\"model\", description=desc, \n",
    "              mass_units=\"mmol\", time_unit=\"days\", length_unit=\"cm\")"
   ]
  },
  {
   "cell_type": "markdown",
   "metadata": {},
   "source": [
    "### Add time information"
   ]
  },
  {
   "cell_type": "code",
   "execution_count": 3,
   "metadata": {},
   "outputs": [],
   "source": [
    "times = ml.add_time_info(tmax=1, print_times=True, nsteps=12,\n",
    "                         dt=0.001, dtmin=0.00001, dtmax=5)"
   ]
  },
  {
   "cell_type": "markdown",
   "metadata": {},
   "source": [
    "### Add water flow"
   ]
  },
  {
   "cell_type": "code",
   "execution_count": 4,
   "metadata": {},
   "outputs": [],
   "source": [
    "ml.add_waterflow(top_bc=0, bot_bc=4, linitw=False,\n",
    "                 ha=1e-006, hb=10000, maxit=10, tolth=0.001, tolh=1)"
   ]
  },
  {
   "cell_type": "markdown",
   "metadata": {},
   "source": [
    "### Add materials"
   ]
  },
  {
   "cell_type": "code",
   "execution_count": 5,
   "metadata": {},
   "outputs": [],
   "source": [
    "m = pd.DataFrame(data=[[0.078, 0.43, 0.036, 1.56, 24.96, 0.5]],\n",
    "                 columns=[\"thr\", \"ths\", \"Alfa\", \"n\", \"Ks\", \"l\"])\n",
    "ml.add_material(m)"
   ]
  },
  {
   "cell_type": "markdown",
   "metadata": {},
   "source": [
    "### Add profile information"
   ]
  },
  {
   "cell_type": "code",
   "execution_count": 6,
   "metadata": {},
   "outputs": [],
   "source": [
    "# Disctretize soil column into n elements\n",
    "elements = 100\n",
    "\n",
    "# Depth of the soil column\n",
    "bottom = -100\n",
    "\n",
    "# Determine initial Pressure Head\n",
    "ihead = -100\n",
    "\n",
    "# Create Profile\n",
    "profile = ps.create_profile(bot=bottom, dx=abs(elements / bottom), h=ihead)\n",
    "\n",
    "# Define initial Pressure Head at the surface\n",
    "profile.iloc[0, 1] = 1\n",
    "\n",
    "# Add the profile\n",
    "ml.add_profile(profile)"
   ]
  },
  {
   "cell_type": "markdown",
   "metadata": {},
   "source": [
    "### Add observation nodes"
   ]
  },
  {
   "cell_type": "code",
   "execution_count": 7,
   "metadata": {},
   "outputs": [],
   "source": [
    "# Add observation nodes at depth\n",
    "obs = [-20, -40, -60, -80, -100]\n",
    "ml.add_observations(obs)"
   ]
  },
  {
   "cell_type": "markdown",
   "metadata": {},
   "source": [
    "### Add atmosphere boundary conditions"
   ]
  },
  {
   "cell_type": "code",
   "execution_count": null,
   "metadata": {},
   "outputs": [],
   "source": []
  },
  {
   "cell_type": "markdown",
   "metadata": {},
   "source": [
    "### Add root water uptake"
   ]
  },
  {
   "cell_type": "code",
   "execution_count": null,
   "metadata": {},
   "outputs": [],
   "source": []
  },
  {
   "cell_type": "markdown",
   "metadata": {},
   "source": [
    "### Write hydrus input files"
   ]
  },
  {
   "cell_type": "code",
   "execution_count": 8,
   "metadata": {},
   "outputs": [
    {
     "name": "stdout",
     "output_type": "stream",
     "text": [
      "Successfully wrote example_1\\SELECTOR.IN\n",
      "Successfully wrote example_1\\PROFILE.DAT\n"
     ]
    }
   ],
   "source": [
    "ml.write_input()"
   ]
  },
  {
   "cell_type": "markdown",
   "metadata": {},
   "source": [
    "### Run hydrus"
   ]
  },
  {
   "cell_type": "code",
   "execution_count": 9,
   "metadata": {},
   "outputs": [],
   "source": [
    "rs = ml.simulate()"
   ]
  },
  {
   "cell_type": "markdown",
   "metadata": {},
   "source": [
    "### Plot results"
   ]
  },
  {
   "cell_type": "code",
   "execution_count": 10,
   "metadata": {},
   "outputs": [
    {
     "data": {
      "text/plain": [
       "array([<matplotlib.axes._subplots.AxesSubplot object at 0x00000196F1932978>,\n",
       "       <matplotlib.axes._subplots.AxesSubplot object at 0x00000196F1BE8BE0>],\n",
       "      dtype=object)"
      ]
     },
     "execution_count": 10,
     "metadata": {},
     "output_type": "execute_result"
    },
    {
     "data": {
      "image/png": "[encoded data removed]",
      "text/plain": [
       "<Figure size 720x216 with 2 Axes>"
      ]
     },
     "metadata": {
      "needs_background": "light"
     },
     "output_type": "display_data"
    }
   ],
   "source": [
    "ml.plots.water_flow(data=\"Actual Surface Flux\")"
   ]
  },
  {
   "cell_type": "code",
   "execution_count": null,
   "metadata": {},
   "outputs": [],
   "source": []
  }
 ],
 "metadata": {
  "kernelspec": {
   "display_name": "Python 3",
   "language": "python",
   "name": "python3"
  },
  "language_info": {
   "codemirror_mode": {
    "name": "ipython",
    "version": 3
   },
   "file_extension": ".py",
   "mimetype": "text/x-python",
   "name": "python",
   "nbconvert_exporter": "python",
   "pygments_lexer": "ipython3",
   "version": "3.7.3"
  }
 },
 "nbformat": 4,
 "nbformat_minor": 2
}
